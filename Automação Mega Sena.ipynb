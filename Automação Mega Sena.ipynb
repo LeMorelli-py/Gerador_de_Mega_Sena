{
 "cells": [
  {
   "cell_type": "code",
   "execution_count": 1,
   "id": "080d3691-7127-4c7e-862f-31c767ba194b",
   "metadata": {},
   "outputs": [],
   "source": [
    "#!pip install pyautogui"
   ]
  },
  {
   "cell_type": "code",
   "execution_count": 2,
   "id": "9f54928e-132d-494d-98e7-e29cc1100de6",
   "metadata": {},
   "outputs": [],
   "source": [
    "#import pyautogui\n",
    "#import time"
   ]
  },
  {
   "cell_type": "code",
   "execution_count": 15,
   "id": "22469d68",
   "metadata": {},
   "outputs": [
    {
     "name": "stdout",
     "output_type": "stream",
     "text": [
      "[36, 35, 34, 11, 29, 42]\n",
      "[18, 41, 12, 11, 60, 23, 35, 22]\n"
     ]
    }
   ],
   "source": [
    "\n",
    "print(jogo6)\n",
    "print(jogo8)"
   ]
  },
  {
   "cell_type": "code",
   "execution_count": null,
   "id": "7787a3cc",
   "metadata": {},
   "outputs": [],
   "source": []
  },
  {
   "cell_type": "code",
   "execution_count": 10,
   "id": "079d9f50-72ac-46e7-a9d1-204c4c562d9c",
   "metadata": {},
   "outputs": [],
   "source": [
    "import pyautogui\n",
    "import time\n",
    "import random\n",
    "jogo6 = random.sample(range(1, 60), 6)\n",
    "jogo8 = random.sample(range(1, 60), 8)\n",
    "\n",
    "pyautogui.press(\"win\")\n",
    "pyautogui.write(\"WhatsApp\")\n",
    "pyautogui.press(\"enter\")\n",
    "time.sleep(2)\n",
    "pyautogui.click(x=627, y=349)\n",
    "pyautogui.write(\"Nelson Morelli\") #inserir o nome da pessoa que irá receber a mensagem\n",
    "time.sleep(1)\n",
    "pyautogui.click(x=644, y=441)\n",
    "time.sleep(0.5)\n",
    "pyautogui.write(\"----Automacao de Gerador de jogos MegaSena----\")\n",
    "pyautogui.press(\"enter\")\n",
    "time.sleep(1)\n",
    "pyautogui.write(f\"6 dezenas: {jogo6}, 8 dezenas: {jogo8}\")\n",
    "pyautogui.press(\"enter\")\n",
    "time.sleep(1)\n",
    "pyautogui.write(f\" Os jogos foram gerados e enviados usando o Python!\")\n",
    "pyautogui.press(\"enter\")\n"
   ]
  },
  {
   "cell_type": "code",
   "execution_count": null,
   "id": "4ce5aa9f-131b-48d0-98d2-f2bf6ecf71e4",
   "metadata": {},
   "outputs": [],
   "source": []
  },
  {
   "cell_type": "code",
   "execution_count": 22,
   "id": "5e19721f-7994-4310-8121-8f7f526b1a03",
   "metadata": {},
   "outputs": [
    {
     "data": {
      "text/plain": [
       "Point(x=627, y=349)"
      ]
     },
     "execution_count": 22,
     "metadata": {},
     "output_type": "execute_result"
    }
   ],
   "source": [
    "time.sleep(10)\n",
    "\n",
    "pyautogui.position()"
   ]
  },
  {
   "cell_type": "code",
   "execution_count": 2,
   "id": "3d4efe7f-9b0b-40e5-aae2-6e7ec9d216f1",
   "metadata": {},
   "outputs": [],
   "source": []
  }
 ],
 "metadata": {
  "kernelspec": {
   "display_name": "Python 3 (ipykernel)",
   "language": "python",
   "name": "python3"
  },
  "language_info": {
   "codemirror_mode": {
    "name": "ipython",
    "version": 3
   },
   "file_extension": ".py",
   "mimetype": "text/x-python",
   "name": "python",
   "nbconvert_exporter": "python",
   "pygments_lexer": "ipython3",
   "version": "3.9.13"
  }
 },
 "nbformat": 4,
 "nbformat_minor": 5
}
